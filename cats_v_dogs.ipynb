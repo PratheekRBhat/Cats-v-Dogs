{
  "nbformat": 4,
  "nbformat_minor": 0,
  "metadata": {
    "colab": {
      "name": "cats_v_dogs.ipynb",
      "provenance": [],
      "authorship_tag": "ABX9TyMThHSWoiv9LO6IoLsuGaPL",
      "include_colab_link": true
    },
    "kernelspec": {
      "name": "python3",
      "display_name": "Python 3"
    }
  },
  "cells": [
    {
      "cell_type": "markdown",
      "metadata": {
        "id": "view-in-github",
        "colab_type": "text"
      },
      "source": [
        "<a href=\"https://colab.research.google.com/github/PratheekRBhat/Cats-v-Dogs/blob/main/cats_v_dogs.ipynb\" target=\"_parent\"><img src=\"https://colab.research.google.com/assets/colab-badge.svg\" alt=\"Open In Colab\"/></a>"
      ]
    },
    {
      "cell_type": "code",
      "metadata": {
        "id": "b8pttWIm3Z9J"
      },
      "source": [
        "import os\r\n",
        "import zipfile\r\n",
        "import random\r\n",
        "import tensorflow as tf\r\n",
        "from tensorflow.keras.optimizers import RMSprop\r\n",
        "from tensorflow.keras.preprocessing.image import ImageDataGenerator\r\n",
        "from shutil import copyfile"
      ],
      "execution_count": 1,
      "outputs": []
    },
    {
      "cell_type": "markdown",
      "metadata": {
        "id": "3zkJjKoGQyzD"
      },
      "source": [
        "# Getting the dataset\r\n",
        "In this block, the full Cats-v-Dogs dataset will be downloaded and stored in a zip file. Next, the data is unzipped and stored in two directories, one for cat images and one for dog images."
      ]
    },
    {
      "cell_type": "code",
      "metadata": {
        "colab": {
          "base_uri": "https://localhost:8080/"
        },
        "id": "ZJ1RDgV03f7x",
        "outputId": "94d83d63-ef5d-40da-fe23-e3f82d0fdd5e"
      },
      "source": [
        "!wget --no-check-certificate \\\r\n",
        "    \"https://download.microsoft.com/download/3/E/1/3E1C3F21-ECDB-4869-8368-6DEBA77B919F/kagglecatsanddogs_3367a.zip\" \\\r\n",
        "    -O \"/tmp/cats-and-dogs.zip\"\r\n",
        "\r\n",
        "local_zip = '/tmp/cats-and-dogs.zip'\r\n",
        "zip_ref = zipfile.ZipFile(local_zip, 'r')\r\n",
        "zip_ref.extractall('/tmp')\r\n",
        "zip_ref.close()"
      ],
      "execution_count": 2,
      "outputs": [
        {
          "output_type": "stream",
          "text": [
            "--2020-12-11 07:13:01--  https://download.microsoft.com/download/3/E/1/3E1C3F21-ECDB-4869-8368-6DEBA77B919F/kagglecatsanddogs_3367a.zip\n",
            "Resolving download.microsoft.com (download.microsoft.com)... 23.193.24.126, 2600:1417:9800:39e::e59, 2600:1417:9800:393::e59\n",
            "Connecting to download.microsoft.com (download.microsoft.com)|23.193.24.126|:443... connected.\n",
            "HTTP request sent, awaiting response... 200 OK\n",
            "Length: 824894548 (787M) [application/octet-stream]\n",
            "Saving to: ‘/tmp/cats-and-dogs.zip’\n",
            "\n",
            "/tmp/cats-and-dogs. 100%[===================>] 786.68M  91.6MB/s    in 7.3s    \n",
            "\n",
            "2020-12-11 07:13:08 (108 MB/s) - ‘/tmp/cats-and-dogs.zip’ saved [824894548/824894548]\n",
            "\n"
          ],
          "name": "stdout"
        }
      ]
    },
    {
      "cell_type": "code",
      "metadata": {
        "colab": {
          "base_uri": "https://localhost:8080/"
        },
        "id": "hp4ZQ5CN3jAn",
        "outputId": "f3185a8e-84c9-475e-e23b-48bd450f56d6"
      },
      "source": [
        "print(len(os.listdir('/tmp/PetImages/Cat/')))\r\n",
        "print(len(os.listdir('/tmp/PetImages/Dog/')))"
      ],
      "execution_count": 3,
      "outputs": [
        {
          "output_type": "stream",
          "text": [
            "12501\n",
            "12501\n"
          ],
          "name": "stdout"
        }
      ]
    },
    {
      "cell_type": "markdown",
      "metadata": {
        "id": "4EBeFvwNRz7Y"
      },
      "source": [
        "# Splitting the dataset into Training and Testing datatsets\r\n",
        "Next, the dataset is split into two smaller datasets for training and testing."
      ]
    },
    {
      "cell_type": "code",
      "metadata": {
        "id": "5VvHurIE3wdp"
      },
      "source": [
        "#creating directories for training and testing using os.mkdir()\r\n",
        "try:\r\n",
        "    os.mkdir('/tmp/cats-v-dogs')\r\n",
        "    os.mkdir('/tmp/cats-v-dogs/training')\r\n",
        "    os.mkdir('/tmp/cats-v-dogs/testing')\r\n",
        "    os.mkdir('/tmp/cats-v-dogs/training/cats')\r\n",
        "    os.mkdir('/tmp/cats-v-dogs/training/dogs')\r\n",
        "    os.mkdir('/tmp/cats-v-dogs/testing/cats')\r\n",
        "    os.mkdir('/tmp/cats-v-dogs/testing/dogs')\r\n",
        "except OSError:\r\n",
        "    pass"
      ],
      "execution_count": 4,
      "outputs": []
    },
    {
      "cell_type": "code",
      "metadata": {
        "colab": {
          "base_uri": "https://localhost:8080/"
        },
        "id": "1XXYgyJa4Nfz",
        "outputId": "f14d44b9-aa03-4518-f010-aa4fd26fecc7"
      },
      "source": [
        "def split_data(SOURCE, TRAINING, TESTING, SPLIT_SIZE):\r\n",
        "    files = []\r\n",
        "    \r\n",
        "    for file_name in os.listdir(SOURCE):\r\n",
        "        file_path = SOURCE + file_name\r\n",
        "\r\n",
        "        if os.path.getsize(file_path):\r\n",
        "            files.append(file_name)\r\n",
        "        else:\r\n",
        "            print('{} is zero length and hence being ignored.'.format(file_name))\r\n",
        "    \r\n",
        "    n_files = len(files)\r\n",
        "    split_point = int(n_files * SPLIT_SIZE)\r\n",
        "    \r\n",
        "    shuffled_files = random.sample(files, n_files)\r\n",
        "    \r\n",
        "    train_set = shuffled_files[:split_point]\r\n",
        "    test_set = shuffled_files[split_point:]\r\n",
        "    \r\n",
        "    for file_name in train_set:\r\n",
        "        copyfile(SOURCE + file_name, TRAINING + file_name)\r\n",
        "        \r\n",
        "    for file_name in test_set:\r\n",
        "        copyfile(SOURCE + file_name, TESTING + file_name)\r\n",
        "\r\n",
        "CAT_SOURCE_DIR = r\"/tmp/PetImages/Cat/\"\r\n",
        "TRAINING_CATS_DIR = r\"/tmp/cats-v-dogs/training/cats/\"\r\n",
        "TESTING_CATS_DIR = r\"/tmp/cats-v-dogs/testing/cats/\"\r\n",
        "DOG_SOURCE_DIR = r\"/tmp/PetImages/Dog/\"\r\n",
        "TRAINING_DOGS_DIR = r\"/tmp/cats-v-dogs/training/dogs/\"\r\n",
        "TESTING_DOGS_DIR = r\"/tmp/cats-v-dogs/testing/dogs/\"\r\n",
        "\r\n",
        "split_size = .9\r\n",
        "split_data(CAT_SOURCE_DIR, TRAINING_CATS_DIR, TESTING_CATS_DIR, split_size)\r\n",
        "split_data(DOG_SOURCE_DIR, TRAINING_DOGS_DIR, TESTING_DOGS_DIR, split_size)"
      ],
      "execution_count": 5,
      "outputs": [
        {
          "output_type": "stream",
          "text": [
            "666.jpg is zero length and hence being ignored.\n",
            "11702.jpg is zero length and hence being ignored.\n"
          ],
          "name": "stdout"
        }
      ]
    },
    {
      "cell_type": "code",
      "metadata": {
        "colab": {
          "base_uri": "https://localhost:8080/"
        },
        "id": "iiek4YJx6ABX",
        "outputId": "cf42a8ff-6a43-4a29-9841-23b908e3483e"
      },
      "source": [
        "print(len(os.listdir('/tmp/cats-v-dogs/training/cats/')))\r\n",
        "print(len(os.listdir('/tmp/cats-v-dogs/training/dogs/')))\r\n",
        "print(len(os.listdir('/tmp/cats-v-dogs/testing/cats/')))\r\n",
        "print(len(os.listdir('/tmp/cats-v-dogs/testing/dogs/')))"
      ],
      "execution_count": 6,
      "outputs": [
        {
          "output_type": "stream",
          "text": [
            "11250\n",
            "11250\n",
            "1250\n",
            "1250\n"
          ],
          "name": "stdout"
        }
      ]
    },
    {
      "cell_type": "markdown",
      "metadata": {
        "id": "yLjWV_BcST7J"
      },
      "source": [
        "#Defining the model\r\n",
        "A keras model is defined and initialised to classify the images. It uses 3 Convolution layers"
      ]
    },
    {
      "cell_type": "code",
      "metadata": {
        "id": "aDQdERFc7bDD"
      },
      "source": [
        "model = tf.keras.models.Sequential([\r\n",
        "    tf.keras.layers.Conv2D(32, (3,3), activation='relu', input_shape=(150,150,3)),\r\n",
        "    tf.keras.layers.MaxPool2D(2,2),\r\n",
        "    tf.keras.layers.Conv2D(32, (3,3), activation='relu'),\r\n",
        "    tf.keras.layers.MaxPool2D(2,2),\r\n",
        "    tf.keras.layers.Conv2D(64, (3,3), activation='relu'),\r\n",
        "    tf.keras.layers.MaxPool2D(2,2),\r\n",
        "    tf.keras.layers.Flatten(),\r\n",
        "    tf.keras.layers.Dense(216, activation='relu'),\r\n",
        "    tf.keras.layers.Dense(1, activation='sigmoid')\r\n",
        "])\r\n",
        "\r\n",
        "model.compile(optimizer=RMSprop(lr=0.001), loss='binary_crossentropy', metrics=['acc'])"
      ],
      "execution_count": 7,
      "outputs": []
    },
    {
      "cell_type": "code",
      "metadata": {
        "colab": {
          "base_uri": "https://localhost:8080/"
        },
        "id": "vquhL37n-Y33",
        "outputId": "00a1e7dd-c50c-48ac-e004-a8379a875595"
      },
      "source": [
        "TRAINING_DIR = '/tmp/cats-v-dogs/training'\r\n",
        "train_datagen = ImageDataGenerator(rescale=1/255)\r\n",
        "train_generator = train_datagen.flow_from_directory(\r\n",
        "    TRAINING_DIR,\r\n",
        "    batch_size=64,\r\n",
        "    class_mode='binary',\r\n",
        "    target_size=(150,150)\r\n",
        ")\r\n",
        "\r\n",
        "VALIDATION_DIR = '/tmp/cats-v-dogs/testing'\r\n",
        "validation_datagen = ImageDataGenerator(rescale=1/255)\r\n",
        "validation_generator = validation_datagen.flow_from_directory(\r\n",
        "    VALIDATION_DIR,\r\n",
        "    batch_size=64,\r\n",
        "    class_mode='binary',\r\n",
        "    target_size=(150,150)\r\n",
        ")"
      ],
      "execution_count": 8,
      "outputs": [
        {
          "output_type": "stream",
          "text": [
            "Found 22498 images belonging to 2 classes.\n",
            "Found 2500 images belonging to 2 classes.\n"
          ],
          "name": "stdout"
        }
      ]
    },
    {
      "cell_type": "code",
      "metadata": {
        "colab": {
          "base_uri": "https://localhost:8080/"
        },
        "id": "vynkAdKf_L9p",
        "outputId": "05529d06-bf98-4e5a-e098-96c1dfefa253"
      },
      "source": [
        "import warnings\r\n",
        "warnings.filterwarnings('ignore')\r\n",
        "print('warnings ignored.')"
      ],
      "execution_count": 9,
      "outputs": [
        {
          "output_type": "stream",
          "text": [
            "warnings ignored.\n"
          ],
          "name": "stdout"
        }
      ]
    },
    {
      "cell_type": "markdown",
      "metadata": {
        "id": "6hK9-uV_S0-P"
      },
      "source": [
        "# Training the Model"
      ]
    },
    {
      "cell_type": "code",
      "metadata": {
        "colab": {
          "base_uri": "https://localhost:8080/"
        },
        "id": "PBnhDnPa_bSH",
        "outputId": "dff382e5-cfb7-4fcd-c984-2bfc97847f29"
      },
      "source": [
        "history = model.fit_generator(\r\n",
        "    train_generator,\r\n",
        "    epochs=15,\r\n",
        "    verbose=1,\r\n",
        "    validation_data=validation_generator\r\n",
        ")"
      ],
      "execution_count": 10,
      "outputs": [
        {
          "output_type": "stream",
          "text": [
            "WARNING:tensorflow:From <ipython-input-10-3045614c18cd>:5: Model.fit_generator (from tensorflow.python.keras.engine.training) is deprecated and will be removed in a future version.\n",
            "Instructions for updating:\n",
            "Please use Model.fit, which supports generators.\n",
            "Epoch 1/15\n",
            "352/352 [==============================] - 632s 2s/step - loss: 0.6426 - acc: 0.6447 - val_loss: 0.5211 - val_acc: 0.7360\n",
            "Epoch 2/15\n",
            "352/352 [==============================] - 626s 2s/step - loss: 0.5047 - acc: 0.7544 - val_loss: 0.4462 - val_acc: 0.7992\n",
            "Epoch 3/15\n",
            "352/352 [==============================] - 625s 2s/step - loss: 0.4305 - acc: 0.8025 - val_loss: 0.4222 - val_acc: 0.8044\n",
            "Epoch 4/15\n",
            "352/352 [==============================] - 630s 2s/step - loss: 0.3736 - acc: 0.8338 - val_loss: 0.4029 - val_acc: 0.8092\n",
            "Epoch 5/15\n",
            "352/352 [==============================] - 627s 2s/step - loss: 0.3208 - acc: 0.8589 - val_loss: 0.3922 - val_acc: 0.8176\n",
            "Epoch 6/15\n",
            "352/352 [==============================] - 622s 2s/step - loss: 0.2660 - acc: 0.8883 - val_loss: 0.4940 - val_acc: 0.7864\n",
            "Epoch 7/15\n",
            "352/352 [==============================] - 624s 2s/step - loss: 0.2125 - acc: 0.9113 - val_loss: 0.4767 - val_acc: 0.8076\n",
            "Epoch 8/15\n",
            "352/352 [==============================] - 624s 2s/step - loss: 0.1599 - acc: 0.9360 - val_loss: 0.6153 - val_acc: 0.8096\n",
            "Epoch 9/15\n",
            "352/352 [==============================] - 626s 2s/step - loss: 0.1163 - acc: 0.9556 - val_loss: 0.5295 - val_acc: 0.8160\n",
            "Epoch 10/15\n",
            "352/352 [==============================] - 628s 2s/step - loss: 0.0811 - acc: 0.9698 - val_loss: 0.6118 - val_acc: 0.8236\n",
            "Epoch 11/15\n",
            "352/352 [==============================] - 626s 2s/step - loss: 0.0620 - acc: 0.9795 - val_loss: 0.9219 - val_acc: 0.8228\n",
            "Epoch 12/15\n",
            "352/352 [==============================] - 628s 2s/step - loss: 0.0510 - acc: 0.9824 - val_loss: 0.9709 - val_acc: 0.8132\n",
            "Epoch 13/15\n",
            "352/352 [==============================] - 629s 2s/step - loss: 0.0456 - acc: 0.9868 - val_loss: 0.8224 - val_acc: 0.8116\n",
            "Epoch 14/15\n",
            "352/352 [==============================] - 629s 2s/step - loss: 0.0399 - acc: 0.9881 - val_loss: 1.0704 - val_acc: 0.8228\n",
            "Epoch 15/15\n",
            "352/352 [==============================] - 628s 2s/step - loss: 0.0391 - acc: 0.9878 - val_loss: 1.5703 - val_acc: 0.8044\n"
          ],
          "name": "stdout"
        }
      ]
    },
    {
      "cell_type": "markdown",
      "metadata": {
        "id": "1HFFHX8hS-Qr"
      },
      "source": [
        "# Plotting Loss and Accuracy "
      ]
    },
    {
      "cell_type": "code",
      "metadata": {
        "colab": {
          "base_uri": "https://localhost:8080/",
          "height": 563
        },
        "id": "xf67SK2x_utd",
        "outputId": "1318c18b-4f1b-4540-dc1a-6cf7b7c85986"
      },
      "source": [
        "%matplotlib inline\r\n",
        "\r\n",
        "import matplotlib.image  as mpimg\r\n",
        "import matplotlib.pyplot as plt\r\n",
        "\r\n",
        "acc=history.history['acc']\r\n",
        "val_acc=history.history['val_acc']\r\n",
        "loss=history.history['loss']\r\n",
        "val_loss=history.history['val_loss']\r\n",
        "\r\n",
        "epochs=range(len(acc))\r\n",
        "\r\n",
        "# training and validation accuracy per epoch\r\n",
        "plt.plot(epochs, acc, 'r', \"Training Accuracy\")\r\n",
        "plt.plot(epochs, val_acc, 'b', \"Validation Accuracy\")\r\n",
        "plt.title('Training and validation accuracy')\r\n",
        "plt.figure()\r\n",
        "\r\n",
        "# training and validation loss per epoch\r\n",
        "plt.plot(epochs, loss, 'r', \"Training Loss\")\r\n",
        "plt.plot(epochs, val_loss, 'b', \"Validation Loss\")\r\n",
        "\r\n",
        "\r\n",
        "plt.title('Training and validation loss')"
      ],
      "execution_count": 11,
      "outputs": [
        {
          "output_type": "execute_result",
          "data": {
            "text/plain": [
              "Text(0.5, 1.0, 'Training and validation loss')"
            ]
          },
          "metadata": {
            "tags": []
          },
          "execution_count": 11
        },
        {
          "output_type": "display_data",
          "data": {
            "image/png": "[encoded data removed]",
            "text/plain": [
              "<Figure size 432x288 with 1 Axes>"
            ]
          },
          "metadata": {
            "tags": [],
            "needs_background": "light"
          }
        },
        {
          "output_type": "display_data",
          "data": {
            "image/png": "[encoded data removed]",
            "text/plain": [
              "<Figure size 432x288 with 1 Axes>"
            ]
          },
          "metadata": {
            "tags": [],
            "needs_background": "light"
          }
        }
      ]
    },
    {
      "cell_type": "markdown",
      "metadata": {
        "id": "Z3Wkwv9ZTS9K"
      },
      "source": [
        "# Add images to test the model"
      ]
    },
    {
      "cell_type": "code",
      "metadata": {
        "colab": {
          "resources": {
            "http://localhost:8080/nbextensions/google.colab/files.js": {
              "data": "Ly8gQ29weXJpZ2h0IDIwMTcgR29vZ2xlIExMQwovLwovLyBMaWNlbnNlZCB1bmRlciB0aGUgQXBhY2hlIExpY2Vuc2UsIFZlcnNpb24gMi4wICh0aGUgIkxpY2Vuc2UiKTsKLy8geW91IG1heSBub3QgdXNlIHRoaXMgZmlsZSBleGNlcHQgaW4gY29tcGxpYW5jZSB3aXRoIHRoZSBMaWNlbnNlLgovLyBZb3UgbWF5IG9idGFpbiBhIGNvcHkgb2YgdGhlIExpY2Vuc2UgYXQKLy8KLy8gICAgICBodHRwOi8vd3d3LmFwYWNoZS5vcmcvbGljZW5zZXMvTElDRU5TRS0yLjAKLy8KLy8gVW5sZXNzIHJlcXVpcmVkIGJ5IGFwcGxpY2FibGUgbGF3IG9yIGFncmVlZCB0byBpbiB3cml0aW5nLCBzb2Z0d2FyZQovLyBkaXN0cmlidXRlZCB1bmRlciB0aGUgTGljZW5zZSBpcyBkaXN0cmlidXRlZCBvbiBhbiAiQVMgSVMiIEJBU0lTLAovLyBXSVRIT1VUIFdBUlJBTlRJRVMgT1IgQ09ORElUSU9OUyBPRiBBTlkgS0lORCwgZWl0aGVyIGV4cHJlc3Mgb3IgaW1wbGllZC4KLy8gU2VlIHRoZSBMaWNlbnNlIGZvciB0aGUgc3BlY2lmaWMgbGFuZ3VhZ2UgZ292ZXJuaW5nIHBlcm1pc3Npb25zIGFuZAovLyBsaW1pdGF0aW9ucyB1bmRlciB0aGUgTGljZW5zZS4KCi8qKgogKiBAZmlsZW92ZXJ2aWV3IEhlbHBlcnMgZm9yIGdvb2dsZS5jb2xhYiBQeXRob24gbW9kdWxlLgogKi8KKGZ1bmN0aW9uKHNjb3BlKSB7CmZ1bmN0aW9uIHNwYW4odGV4dCwgc3R5bGVBdHRyaWJ1dGVzID0ge30pIHsKICBjb25zdCBlbGVtZW50ID0gZG9jdW1lbnQuY3JlYXRlRWxlbWVudCgnc3BhbicpOwogIGVsZW1lbnQudGV4dENvbnRlbnQgPSB0ZXh0OwogIGZvciAoY29uc3Qga2V5IG9mIE9iamVjdC5rZXlzKHN0eWxlQXR0cmlidXRlcykpIHsKICAgIGVsZW1lbnQuc3R5bGVba2V5XSA9IHN0eWxlQXR0cmlidXRlc1trZXldOwogIH0KICByZXR1cm4gZWxlbWVudDsKfQoKLy8gTWF4IG51bWJlciBvZiBieXRlcyB3aGljaCB3aWxsIGJlIHVwbG9hZGVkIGF0IGEgdGltZS4KY29uc3QgTUFYX1BBWUxPQURfU0laRSA9IDEwMCAqIDEwMjQ7CgpmdW5jdGlvbiBfdXBsb2FkRmlsZXMoaW5wdXRJZCwgb3V0cHV0SWQpIHsKICBjb25zdCBzdGVwcyA9IHVwbG9hZEZpbGVzU3RlcChpbnB1dElkLCBvdXRwdXRJZCk7CiAgY29uc3Qgb3V0cHV0RWxlbWVudCA9IGRvY3VtZW50LmdldEVsZW1lbnRCeUlkKG91dHB1dElkKTsKICAvLyBDYWNoZSBzdGVwcyBvbiB0aGUgb3V0cHV0RWxlbWVudCB0byBtYWtlIGl0IGF2YWlsYWJsZSBmb3IgdGhlIG5leHQgY2FsbAogIC8vIHRvIHVwbG9hZEZpbGVzQ29udGludWUgZnJvbSBQeXRob24uCiAgb3V0cHV0RWxlbWVudC5zdGVwcyA9IHN0ZXBzOwoKICByZXR1cm4gX3VwbG9hZEZpbGVzQ29udGludWUob3V0cHV0SWQpOwp9CgovLyBUaGlzIGlzIHJvdWdobHkgYW4gYXN5bmMgZ2VuZXJhdG9yIChub3Qgc3VwcG9ydGVkIGluIHRoZSBicm93c2VyIHlldCksCi8vIHdoZXJlIHRoZXJlIGFyZSBtdWx0aXBsZSBhc3luY2hyb25vdXMgc3RlcHMgYW5kIHRoZSBQeXRob24gc2lkZSBpcyBnb2luZwovLyB0byBwb2xsIGZvciBjb21wbGV0aW9uIG9mIGVhY2ggc3RlcC4KLy8gVGhpcyB1c2VzIGEgUHJvbWlzZSB0byBibG9jayB0aGUgcHl0aG9uIHNpZGUgb24gY29tcGxldGlvbiBvZiBlYWNoIHN0ZXAsCi8vIHRoZW4gcGFzc2VzIHRoZSByZXN1bHQgb2YgdGhlIHByZXZpb3VzIHN0ZXAgYXMgdGhlIGlucHV0IHRvIHRoZSBuZXh0IHN0ZXAuCmZ1bmN0aW9uIF91cGxvYWRGaWxlc0NvbnRpbnVlKG91dHB1dElkKSB7CiAgY29uc3Qgb3V0cHV0RWxlbWVudCA9IGRvY3VtZW50LmdldEVsZW1lbnRCeUlkKG91dHB1dElkKTsKICBjb25zdCBzdGVwcyA9IG91dHB1dEVsZW1lbnQuc3RlcHM7CgogIGNvbnN0IG5leHQgPSBzdGVwcy5uZXh0KG91dHB1dEVsZW1lbnQubGFzdFByb21pc2VWYWx1ZSk7CiAgcmV0dXJuIFByb21pc2UucmVzb2x2ZShuZXh0LnZhbHVlLnByb21pc2UpLnRoZW4oKHZhbHVlKSA9PiB7CiAgICAvLyBDYWNoZSB0aGUgbGFzdCBwcm9taXNlIHZhbHVlIHRvIG1ha2UgaXQgYXZhaWxhYmxlIHRvIHRoZSBuZXh0CiAgICAvLyBzdGVwIG9mIHRoZSBnZW5lcmF0b3IuCiAgICBvdXRwdXRFbGVtZW50Lmxhc3RQcm9taXNlVmFsdWUgPSB2YWx1ZTsKICAgIHJldHVybiBuZXh0LnZhbHVlLnJlc3BvbnNlOwogIH0pOwp9CgovKioKICogR2VuZXJhdG9yIGZ1bmN0aW9uIHdoaWNoIGlzIGNhbGxlZCBiZXR3ZWVuIGVhY2ggYXN5bmMgc3RlcCBvZiB0aGUgdXBsb2FkCiAqIHByb2Nlc3MuCiAqIEBwYXJhbSB7c3RyaW5nfSBpbnB1dElkIEVsZW1lbnQgSUQgb2YgdGhlIGlucHV0IGZpbGUgcGlja2VyIGVsZW1lbnQuCiAqIEBwYXJhbSB7c3RyaW5nfSBvdXRwdXRJZCBFbGVtZW50IElEIG9mIHRoZSBvdXRwdXQgZGlzcGxheS4KICogQHJldHVybiB7IUl0ZXJhYmxlPCFPYmplY3Q+fSBJdGVyYWJsZSBvZiBuZXh0IHN0ZXBzLgogKi8KZnVuY3Rpb24qIHVwbG9hZEZpbGVzU3RlcChpbnB1dElkLCBvdXRwdXRJZCkgewogIGNvbnN0IGlucHV0RWxlbWVudCA9IGRvY3VtZW50LmdldEVsZW1lbnRCeUlkKGlucHV0SWQpOwogIGlucHV0RWxlbWVudC5kaXNhYmxlZCA9IGZhbHNlOwoKICBjb25zdCBvdXRwdXRFbGVtZW50ID0gZG9jdW1lbnQuZ2V0RWxlbWVudEJ5SWQob3V0cHV0SWQpOwogIG91dHB1dEVsZW1lbnQuaW5uZXJIVE1MID0gJyc7CgogIGNvbnN0IHBpY2tlZFByb21pc2UgPSBuZXcgUHJvbWlzZSgocmVzb2x2ZSkgPT4gewogICAgaW5wdXRFbGVtZW50LmFkZEV2ZW50TGlzdGVuZXIoJ2NoYW5nZScsIChlKSA9PiB7CiAgICAgIHJlc29sdmUoZS50YXJnZXQuZmlsZXMpOwogICAgfSk7CiAgfSk7CgogIGNvbnN0IGNhbmNlbCA9IGRvY3VtZW50LmNyZWF0ZUVsZW1lbnQoJ2J1dHRvbicpOwogIGlucHV0RWxlbWVudC5wYXJlbnRFbGVtZW50LmFwcGVuZENoaWxkKGNhbmNlbCk7CiAgY2FuY2VsLnRleHRDb250ZW50ID0gJ0NhbmNlbCB1cGxvYWQnOwogIGNvbnN0IGNhbmNlbFByb21pc2UgPSBuZXcgUHJvbWlzZSgocmVzb2x2ZSkgPT4gewogICAgY2FuY2VsLm9uY2xpY2sgPSAoKSA9PiB7CiAgICAgIHJlc29sdmUobnVsbCk7CiAgICB9OwogIH0pOwoKICAvLyBXYWl0IGZvciB0aGUgdXNlciB0byBwaWNrIHRoZSBmaWxlcy4KICBjb25zdCBmaWxlcyA9IHlpZWxkIHsKICAgIHByb21pc2U6IFByb21pc2UucmFjZShbcGlja2VkUHJvbWlzZSwgY2FuY2VsUHJvbWlzZV0pLAogICAgcmVzcG9uc2U6IHsKICAgICAgYWN0aW9uOiAnc3RhcnRpbmcnLAogICAgfQogIH07CgogIGNhbmNlbC5yZW1vdmUoKTsKCiAgLy8gRGlzYWJsZSB0aGUgaW5wdXQgZWxlbWVudCBzaW5jZSBmdXJ0aGVyIHBpY2tzIGFyZSBub3QgYWxsb3dlZC4KICBpbnB1dEVsZW1lbnQuZGlzYWJsZWQgPSB0cnVlOwoKICBpZiAoIWZpbGVzKSB7CiAgICByZXR1cm4gewogICAgICByZXNwb25zZTogewogICAgICAgIGFjdGlvbjogJ2NvbXBsZXRlJywKICAgICAgfQogICAgfTsKICB9CgogIGZvciAoY29uc3QgZmlsZSBvZiBmaWxlcykgewogICAgY29uc3QgbGkgPSBkb2N1bWVudC5jcmVhdGVFbGVtZW50KCdsaScpOwogICAgbGkuYXBwZW5kKHNwYW4oZmlsZS5uYW1lLCB7Zm9udFdlaWdodDogJ2JvbGQnfSkpOwogICAgbGkuYXBwZW5kKHNwYW4oCiAgICAgICAgYCgke2ZpbGUudHlwZSB8fCAnbi9hJ30pIC0gJHtmaWxlLnNpemV9IGJ5dGVzLCBgICsKICAgICAgICBgbGFzdCBtb2RpZmllZDogJHsKICAgICAgICAgICAgZmlsZS5sYXN0TW9kaWZpZWREYXRlID8gZmlsZS5sYXN0TW9kaWZpZWREYXRlLnRvTG9jYWxlRGF0ZVN0cmluZygpIDoKICAgICAgICAgICAgICAgICAgICAgICAgICAgICAgICAgICAgJ24vYSd9IC0gYCkpOwogICAgY29uc3QgcGVyY2VudCA9IHNwYW4oJzAlIGRvbmUnKTsKICAgIGxpLmFwcGVuZENoaWxkKHBlcmNlbnQpOwoKICAgIG91dHB1dEVsZW1lbnQuYXBwZW5kQ2hpbGQobGkpOwoKICAgIGNvbnN0IGZpbGVEYXRhUHJvbWlzZSA9IG5ldyBQcm9taXNlKChyZXNvbHZlKSA9PiB7CiAgICAgIGNvbnN0IHJlYWRlciA9IG5ldyBGaWxlUmVhZGVyKCk7CiAgICAgIHJlYWRlci5vbmxvYWQgPSAoZSkgPT4gewogICAgICAgIHJlc29sdmUoZS50YXJnZXQucmVzdWx0KTsKICAgICAgfTsKICAgICAgcmVhZGVyLnJlYWRBc0FycmF5QnVmZmVyKGZpbGUpOwogICAgfSk7CiAgICAvLyBXYWl0IGZvciB0aGUgZGF0YSB0byBiZSByZWFkeS4KICAgIGxldCBmaWxlRGF0YSA9IHlpZWxkIHsKICAgICAgcHJvbWlzZTogZmlsZURhdGFQcm9taXNlLAogICAgICByZXNwb25zZTogewogICAgICAgIGFjdGlvbjogJ2NvbnRpbnVlJywKICAgICAgfQogICAgfTsKCiAgICAvLyBVc2UgYSBjaHVua2VkIHNlbmRpbmcgdG8gYXZvaWQgbWVzc2FnZSBzaXplIGxpbWl0cy4gU2VlIGIvNjIxMTU2NjAuCiAgICBsZXQgcG9zaXRpb24gPSAwOwogICAgd2hpbGUgKHBvc2l0aW9uIDwgZmlsZURhdGEuYnl0ZUxlbmd0aCkgewogICAgICBjb25zdCBsZW5ndGggPSBNYXRoLm1pbihmaWxlRGF0YS5ieXRlTGVuZ3RoIC0gcG9zaXRpb24sIE1BWF9QQVlMT0FEX1NJWkUpOwogICAgICBjb25zdCBjaHVuayA9IG5ldyBVaW50OEFycmF5KGZpbGVEYXRhLCBwb3NpdGlvbiwgbGVuZ3RoKTsKICAgICAgcG9zaXRpb24gKz0gbGVuZ3RoOwoKICAgICAgY29uc3QgYmFzZTY0ID0gYnRvYShTdHJpbmcuZnJvbUNoYXJDb2RlLmFwcGx5KG51bGwsIGNodW5rKSk7CiAgICAgIHlpZWxkIHsKICAgICAgICByZXNwb25zZTogewogICAgICAgICAgYWN0aW9uOiAnYXBwZW5kJywKICAgICAgICAgIGZpbGU6IGZpbGUubmFtZSwKICAgICAgICAgIGRhdGE6IGJhc2U2NCwKICAgICAgICB9LAogICAgICB9OwogICAgICBwZXJjZW50LnRleHRDb250ZW50ID0KICAgICAgICAgIGAke01hdGgucm91bmQoKHBvc2l0aW9uIC8gZmlsZURhdGEuYnl0ZUxlbmd0aCkgKiAxMDApfSUgZG9uZWA7CiAgICB9CiAgfQoKICAvLyBBbGwgZG9uZS4KICB5aWVsZCB7CiAgICByZXNwb25zZTogewogICAgICBhY3Rpb246ICdjb21wbGV0ZScsCiAgICB9CiAgfTsKfQoKc2NvcGUuZ29vZ2xlID0gc2NvcGUuZ29vZ2xlIHx8IHt9OwpzY29wZS5nb29nbGUuY29sYWIgPSBzY29wZS5nb29nbGUuY29sYWIgfHwge307CnNjb3BlLmdvb2dsZS5jb2xhYi5fZmlsZXMgPSB7CiAgX3VwbG9hZEZpbGVzLAogIF91cGxvYWRGaWxlc0NvbnRpbnVlLAp9Owp9KShzZWxmKTsK",
              "ok": true,
              "headers": [
                [
                  "content-type",
                  "application/javascript"
                ]
              ],
              "status": 200,
              "status_text": "OK"
            }
          },
          "base_uri": "https://localhost:8080/",
          "height": 110
        },
        "id": "vJYbd5Z4ACPl",
        "outputId": "3d4b39fc-802d-4803-fbf4-3976e55eb821"
      },
      "source": [
        "import numpy as np\r\n",
        "from google.colab import files\r\n",
        "from keras.preprocessing import image\r\n",
        "\r\n",
        "uploaded = files.upload()\r\n",
        "\r\n",
        "for fn in uploaded.keys():\r\n",
        "    # predicting images\r\n",
        "    path = '/content/' + fn\r\n",
        "    img = image.load_img(path, target_size=(150, 150))\r\n",
        "    \r\n",
        "    x = image.img_to_array(img)\r\n",
        "    x = np.expand_dims(x, axis=0)\r\n",
        "\r\n",
        "    images = np.vstack([x])\r\n",
        "    classes = model.predict(images, batch_size=10)\r\n",
        "    print(classes[0])\r\n",
        "    if classes[0]>0.5:\r\n",
        "        print(fn + \" is a dog\")\r\n",
        "    else:\r\n",
        "        print(fn + \" is a cat\")"
      ],
      "execution_count": 15,
      "outputs": [
        {
          "output_type": "display_data",
          "data": {
            "text/html": [
              "\n",
              "     <input type=\"file\" id=\"files-a6ac78de-42ae-4023-b357-21f58b0db7d2\" name=\"files[]\" multiple disabled\n",
              "        style=\"border:none\" />\n",
              "     <output id=\"result-a6ac78de-42ae-4023-b357-21f58b0db7d2\">\n",
              "      Upload widget is only available when the cell has been executed in the\n",
              "      current browser session. Please rerun this cell to enable.\n",
              "      </output>\n",
              "      <script src=\"/nbextensions/google.colab/files.js\"></script> "
            ],
            "text/plain": [
              "<IPython.core.display.HTML object>"
            ]
          },
          "metadata": {
            "tags": []
          }
        },
        {
          "output_type": "stream",
          "text": [
            "Saving index1.jpg to index1.jpg\n",
            "[1.]\n",
            "index1.jpg is a dog\n"
          ],
          "name": "stdout"
        }
      ]
    }
  ]
}